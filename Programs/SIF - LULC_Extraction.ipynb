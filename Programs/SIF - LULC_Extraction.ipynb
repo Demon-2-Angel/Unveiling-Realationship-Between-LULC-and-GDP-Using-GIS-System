{
 "cells": [
  {
   "cell_type": "code",
   "execution_count": null,
   "metadata": {},
   "outputs": [],
   "source": [
    "import rasterio\n",
    "import numpy as np\n",
    "import pandas as pd"
   ]
  },
  {
   "cell_type": "code",
   "execution_count": null,
   "metadata": {},
   "outputs": [],
   "source": [
    "# Open the GeoTIFF file\n",
    "tif_path = r'C:\\Users\\aniru\\Machine Learning\\Space Hackathon\\Group-2\\Topic-2\\UttarPradesh\\LULC\\UP_LULC_2015.tif'"
   ]
  },
  {
   "cell_type": "code",
   "execution_count": null,
   "metadata": {},
   "outputs": [],
   "source": [
    "\n",
    "with rasterio.open(tif_path) as src:\n",
    "    # Read the entire raster data into a numpy array\n",
    "    data = src.read(1)  # Assuming it's a single-band image\n",
    "\n",
    "# Flatten the 2D array to a 1D array\n",
    "flattened_data = data.flatten()\n",
    "\n",
    "# Create a DataFrame with a column for pixel values\n",
    "df = pd.DataFrame({'pixel_value': flattened_data})\n",
    "\n",
    "# Filter the DataFrame to include only non-zero values\n",
    "df_non_zero = df[df['pixel_value'] > 0]\n",
    "\n"
   ]
  },
  {
   "cell_type": "code",
   "execution_count": null,
   "metadata": {},
   "outputs": [],
   "source": [
    "# Save the DataFrame with non-zero values to a CSV file\n",
    "csv_path_non_zero = r'C:\\Users\\aniru\\Machine Learning\\Space Hackathon\\Group-2\\Topic-2\\UttarPradesh\\LULC\\output2015_non_zero.csv'\n",
    "df_non_zero.to_csv(csv_path_non_zero, index=False)\n",
    "\n",
    "print(f\"Non-zero pixel values extracted and saved to: {csv_path_non_zero}\")\n"
   ]
  },
  {
   "cell_type": "code",
   "execution_count": null,
   "metadata": {},
   "outputs": [],
   "source": [
    "# Specify the path to your CSV file\n",
    "csv2012_path = r\"C:\\Users\\aniru\\Machine Learning\\Space Hackathon\\Group-2\\Topic-2\\UttarPradesh\\LULC\\lulc_2012_15.csv\"\n",
    "\n",
    "# Read the CSV file into a DataFrame\n",
    "df2012 = pd.read_csv(csv2012_path)\n",
    "\n",
    "# Now you can use describe() on the DataFrame\n",
    "df2012.describe()"
   ]
  },
  {
   "cell_type": "code",
   "execution_count": 3,
   "metadata": {},
   "outputs": [],
   "source": [
    "import pandas as pd\n",
    "\n",
    "# Assuming 'your_data.xlsx' contains the relevant data with a 'count' column\n",
    "# Replace 'your_data.xlsx' with the actual path to your Excel file or DataFrame\n",
    "df = pd.read_csv(r\"C:\\Users\\aniru\\Machine Learning\\Space Hackathon\\Group-2\\Topic-2\\UttarPradesh\\LULC\\Dataset\\UP_LULC_2017_QGIS_FILE\\Statistics.csv\")\n",
    "\n",
    "# Calculate percentage and create a new column 'Percentage'\n",
    "df['Percentage'] = (df['count'] / df['count'].sum()) * 100\n",
    "\n",
    "# Save the updated DataFrame to the Excel file\n",
    "df.to_csv(r'C:\\Users\\aniru\\Machine Learning\\Space Hackathon\\Group-2\\Topic-2\\UttarPradesh\\LULC\\Dataset\\UP_LULC_2017_QGIS_FILE\\Statisct1.csv', index=False)\n"
   ]
  },
  {
   "cell_type": "code",
   "execution_count": null,
   "metadata": {},
   "outputs": [],
   "source": []
  }
 ],
 "metadata": {
  "kernelspec": {
   "display_name": "Python 3.9 (tensorflow)",
   "language": "python",
   "name": "tensorflow"
  },
  "language_info": {
   "codemirror_mode": {
    "name": "ipython",
    "version": 3
   },
   "file_extension": ".py",
   "mimetype": "text/x-python",
   "name": "python",
   "nbconvert_exporter": "python",
   "pygments_lexer": "ipython3",
   "version": "3.9.18"
  }
 },
 "nbformat": 4,
 "nbformat_minor": 2
}
